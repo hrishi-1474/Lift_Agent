{
 "cells": [
  {
   "cell_type": "code",
   "execution_count": 1,
   "id": "5c9ccf47",
   "metadata": {},
   "outputs": [],
   "source": [
    "import warnings\n",
    "warnings.filterwarnings('ignore')\n",
    "import yaml\n",
    "import pandas as pd"
   ]
  },
  {
   "cell_type": "code",
   "execution_count": 2,
   "id": "84fcc6b9",
   "metadata": {},
   "outputs": [],
   "source": [
    "from multi_agents import MultiAgentSystem\n",
    "from helpers import preprocess_expense_data, preprocess_budget_data"
   ]
  },
  {
   "cell_type": "code",
   "execution_count": 3,
   "id": "42d53da2",
   "metadata": {},
   "outputs": [],
   "source": [
    "with open(\"/Users/sigmoid/Downloads/llm_keys.yaml\", \"r\") as f:\n",
    "    llm_keys = yaml.safe_load(f)"
   ]
  },
  {
   "cell_type": "code",
   "execution_count": 4,
   "id": "598277ba",
   "metadata": {},
   "outputs": [],
   "source": [
    "file_path = '/Users/sigmoid/Documents/PepsiCo - Gen AI PoC/lift_bot/src'"
   ]
  },
  {
   "cell_type": "code",
   "execution_count": 5,
   "id": "dd2b4162",
   "metadata": {},
   "outputs": [],
   "source": [
    "# Load data (MODIFIED for new structure)\n",
    "df_expenses = preprocess_expense_data(f\"{file_path}/data/Expenses_RB.csv\")"
   ]
  },
  {
   "cell_type": "code",
   "execution_count": 6,
   "id": "af15e0ea",
   "metadata": {},
   "outputs": [
    {
     "data": {
      "text/html": [
       "<div>\n",
       "<style scoped>\n",
       "    .dataframe tbody tr th:only-of-type {\n",
       "        vertical-align: middle;\n",
       "    }\n",
       "\n",
       "    .dataframe tbody tr th {\n",
       "        vertical-align: top;\n",
       "    }\n",
       "\n",
       "    .dataframe thead th {\n",
       "        text-align: right;\n",
       "    }\n",
       "</style>\n",
       "<table border=\"1\" class=\"dataframe\">\n",
       "  <thead>\n",
       "    <tr style=\"text-align: right;\">\n",
       "      <th></th>\n",
       "      <th>Expense Status</th>\n",
       "      <th>Pending At</th>\n",
       "      <th>Expense Logged by</th>\n",
       "      <th>Audit Status</th>\n",
       "      <th>Audit Comments</th>\n",
       "      <th>Tier 1</th>\n",
       "      <th>Tier 2</th>\n",
       "      <th>Tier 3</th>\n",
       "      <th>Year</th>\n",
       "      <th>Month</th>\n",
       "      <th>Country</th>\n",
       "      <th>Region</th>\n",
       "      <th>Category</th>\n",
       "      <th>Brand</th>\n",
       "      <th>Pep Expense</th>\n",
       "      <th>Bottler Expense</th>\n",
       "      <th>Total Expense</th>\n",
       "    </tr>\n",
       "  </thead>\n",
       "  <tbody>\n",
       "    <tr>\n",
       "      <th>0</th>\n",
       "      <td>Approved</td>\n",
       "      <td>NaN</td>\n",
       "      <td>Bottler</td>\n",
       "      <td>NaN</td>\n",
       "      <td>NaN</td>\n",
       "      <td>STB - Push</td>\n",
       "      <td>Unilateral</td>\n",
       "      <td>Capital Equipment</td>\n",
       "      <td>2024</td>\n",
       "      <td>10</td>\n",
       "      <td>ARGENTINA</td>\n",
       "      <td>LAB South</td>\n",
       "      <td>Energy Drinks</td>\n",
       "      <td>Rockstar</td>\n",
       "      <td>417</td>\n",
       "      <td>397</td>\n",
       "      <td>814</td>\n",
       "    </tr>\n",
       "    <tr>\n",
       "      <th>1</th>\n",
       "      <td>Approved</td>\n",
       "      <td>NaN</td>\n",
       "      <td>Bottler</td>\n",
       "      <td>NaN</td>\n",
       "      <td>NaN</td>\n",
       "      <td>STB - Push</td>\n",
       "      <td>Unilateral</td>\n",
       "      <td>CDAs</td>\n",
       "      <td>2024</td>\n",
       "      <td>5</td>\n",
       "      <td>ARGENTINA</td>\n",
       "      <td>LAB South</td>\n",
       "      <td>Sport Drinks</td>\n",
       "      <td>Gatorade</td>\n",
       "      <td>159</td>\n",
       "      <td>151</td>\n",
       "      <td>310</td>\n",
       "    </tr>\n",
       "    <tr>\n",
       "      <th>2</th>\n",
       "      <td>Approved</td>\n",
       "      <td>NaN</td>\n",
       "      <td>Bottler</td>\n",
       "      <td>NaN</td>\n",
       "      <td>NaN</td>\n",
       "      <td>STB - Push</td>\n",
       "      <td>Unilateral</td>\n",
       "      <td>CDAs</td>\n",
       "      <td>2024</td>\n",
       "      <td>2</td>\n",
       "      <td>ARGENTINA</td>\n",
       "      <td>LAB South</td>\n",
       "      <td>CSD</td>\n",
       "      <td>Pepsi</td>\n",
       "      <td>104665</td>\n",
       "      <td>99679</td>\n",
       "      <td>204345</td>\n",
       "    </tr>\n",
       "    <tr>\n",
       "      <th>3</th>\n",
       "      <td>Approved</td>\n",
       "      <td>NaN</td>\n",
       "      <td>Bottler</td>\n",
       "      <td>NaN</td>\n",
       "      <td>NaN</td>\n",
       "      <td>STB - Push</td>\n",
       "      <td>Unilateral</td>\n",
       "      <td>CDAs</td>\n",
       "      <td>2024</td>\n",
       "      <td>9</td>\n",
       "      <td>ARGENTINA</td>\n",
       "      <td>LAB South</td>\n",
       "      <td>CSD</td>\n",
       "      <td>Pepsi</td>\n",
       "      <td>9532</td>\n",
       "      <td>9078</td>\n",
       "      <td>18610</td>\n",
       "    </tr>\n",
       "    <tr>\n",
       "      <th>4</th>\n",
       "      <td>Approved</td>\n",
       "      <td>NaN</td>\n",
       "      <td>Bottler</td>\n",
       "      <td>NaN</td>\n",
       "      <td>NaN</td>\n",
       "      <td>STB - Push</td>\n",
       "      <td>Unilateral</td>\n",
       "      <td>Capital Equipment</td>\n",
       "      <td>2024</td>\n",
       "      <td>10</td>\n",
       "      <td>ARGENTINA</td>\n",
       "      <td>LAB South</td>\n",
       "      <td>Sport Drinks</td>\n",
       "      <td>Gatorade</td>\n",
       "      <td>3507</td>\n",
       "      <td>3340</td>\n",
       "      <td>6848</td>\n",
       "    </tr>\n",
       "  </tbody>\n",
       "</table>\n",
       "</div>"
      ],
      "text/plain": [
       "  Expense Status Pending At Expense Logged by Audit Status Audit Comments  \\\n",
       "0       Approved        NaN           Bottler          NaN            NaN   \n",
       "1       Approved        NaN           Bottler          NaN            NaN   \n",
       "2       Approved        NaN           Bottler          NaN            NaN   \n",
       "3       Approved        NaN           Bottler          NaN            NaN   \n",
       "4       Approved        NaN           Bottler          NaN            NaN   \n",
       "\n",
       "       Tier 1      Tier 2             Tier 3  Year  Month    Country  \\\n",
       "0  STB - Push  Unilateral  Capital Equipment  2024     10  ARGENTINA   \n",
       "1  STB - Push  Unilateral               CDAs  2024      5  ARGENTINA   \n",
       "2  STB - Push  Unilateral               CDAs  2024      2  ARGENTINA   \n",
       "3  STB - Push  Unilateral               CDAs  2024      9  ARGENTINA   \n",
       "4  STB - Push  Unilateral  Capital Equipment  2024     10  ARGENTINA   \n",
       "\n",
       "      Region       Category     Brand  Pep Expense  Bottler Expense  \\\n",
       "0  LAB South  Energy Drinks  Rockstar          417              397   \n",
       "1  LAB South   Sport Drinks  Gatorade          159              151   \n",
       "2  LAB South            CSD     Pepsi       104665            99679   \n",
       "3  LAB South            CSD     Pepsi         9532             9078   \n",
       "4  LAB South   Sport Drinks  Gatorade         3507             3340   \n",
       "\n",
       "   Total Expense  \n",
       "0            814  \n",
       "1            310  \n",
       "2         204345  \n",
       "3          18610  \n",
       "4           6848  "
      ]
     },
     "execution_count": 6,
     "metadata": {},
     "output_type": "execute_result"
    }
   ],
   "source": [
    "df_expenses.head()"
   ]
  },
  {
   "cell_type": "code",
   "execution_count": 7,
   "id": "d5a5206c",
   "metadata": {},
   "outputs": [],
   "source": [
    "df_budget = preprocess_budget_data(f\"{file_path}/data/Budget_RB.csv\")"
   ]
  },
  {
   "cell_type": "code",
   "execution_count": 8,
   "id": "771efdcd",
   "metadata": {},
   "outputs": [
    {
     "data": {
      "text/html": [
       "<div>\n",
       "<style scoped>\n",
       "    .dataframe tbody tr th:only-of-type {\n",
       "        vertical-align: middle;\n",
       "    }\n",
       "\n",
       "    .dataframe tbody tr th {\n",
       "        vertical-align: top;\n",
       "    }\n",
       "\n",
       "    .dataframe thead th {\n",
       "        text-align: right;\n",
       "    }\n",
       "</style>\n",
       "<table border=\"1\" class=\"dataframe\">\n",
       "  <thead>\n",
       "    <tr style=\"text-align: right;\">\n",
       "      <th></th>\n",
       "      <th>Region</th>\n",
       "      <th>Country</th>\n",
       "      <th>Year</th>\n",
       "      <th>Category</th>\n",
       "      <th>Brand</th>\n",
       "      <th>Tier 1</th>\n",
       "      <th>Tier 2</th>\n",
       "      <th>Tier 3</th>\n",
       "      <th>Total Budget</th>\n",
       "      <th>Pep Budget</th>\n",
       "      <th>Bottler Budget</th>\n",
       "    </tr>\n",
       "  </thead>\n",
       "  <tbody>\n",
       "    <tr>\n",
       "      <th>0</th>\n",
       "      <td>LAB South</td>\n",
       "      <td>Brazil</td>\n",
       "      <td>2024</td>\n",
       "      <td>Sport Drinks</td>\n",
       "      <td>Gatorade</td>\n",
       "      <td>Pull-Non-Working</td>\n",
       "      <td>Ad Production</td>\n",
       "      <td>Digital Ad Production</td>\n",
       "      <td>701295</td>\n",
       "      <td>368135</td>\n",
       "      <td>333160</td>\n",
       "    </tr>\n",
       "    <tr>\n",
       "      <th>1</th>\n",
       "      <td>LAB South</td>\n",
       "      <td>Brazil</td>\n",
       "      <td>2024</td>\n",
       "      <td>Sport Drinks</td>\n",
       "      <td>Gatorade</td>\n",
       "      <td>Pull-Non-Working</td>\n",
       "      <td>Ad Production</td>\n",
       "      <td>Other Ad Production</td>\n",
       "      <td>646688</td>\n",
       "      <td>338608</td>\n",
       "      <td>308080</td>\n",
       "    </tr>\n",
       "    <tr>\n",
       "      <th>2</th>\n",
       "      <td>LAB South</td>\n",
       "      <td>Brazil</td>\n",
       "      <td>2024</td>\n",
       "      <td>Sport Drinks</td>\n",
       "      <td>Gatorade</td>\n",
       "      <td>Pull-Non-Working</td>\n",
       "      <td>Ad Production</td>\n",
       "      <td>TV Print Radio OOH Prod</td>\n",
       "      <td>59784</td>\n",
       "      <td>28407</td>\n",
       "      <td>31377</td>\n",
       "    </tr>\n",
       "    <tr>\n",
       "      <th>3</th>\n",
       "      <td>LAB South</td>\n",
       "      <td>Brazil</td>\n",
       "      <td>2024</td>\n",
       "      <td>Sport Drinks</td>\n",
       "      <td>Gatorade</td>\n",
       "      <td>Pull-Non-Working</td>\n",
       "      <td>Agency Fees</td>\n",
       "      <td>Creative Agency Fees</td>\n",
       "      <td>650208</td>\n",
       "      <td>335069</td>\n",
       "      <td>315139</td>\n",
       "    </tr>\n",
       "    <tr>\n",
       "      <th>4</th>\n",
       "      <td>LAB South</td>\n",
       "      <td>Brazil</td>\n",
       "      <td>2024</td>\n",
       "      <td>Sport Drinks</td>\n",
       "      <td>Gatorade</td>\n",
       "      <td>Pull-Non-Working</td>\n",
       "      <td>Agency Fees</td>\n",
       "      <td>In Store and POS Design/Development</td>\n",
       "      <td>517579</td>\n",
       "      <td>259249</td>\n",
       "      <td>258330</td>\n",
       "    </tr>\n",
       "  </tbody>\n",
       "</table>\n",
       "</div>"
      ],
      "text/plain": [
       "      Region Country  Year      Category     Brand            Tier 1  \\\n",
       "0  LAB South  Brazil  2024  Sport Drinks  Gatorade  Pull-Non-Working   \n",
       "1  LAB South  Brazil  2024  Sport Drinks  Gatorade  Pull-Non-Working   \n",
       "2  LAB South  Brazil  2024  Sport Drinks  Gatorade  Pull-Non-Working   \n",
       "3  LAB South  Brazil  2024  Sport Drinks  Gatorade  Pull-Non-Working   \n",
       "4  LAB South  Brazil  2024  Sport Drinks  Gatorade  Pull-Non-Working   \n",
       "\n",
       "          Tier 2                               Tier 3  Total Budget  \\\n",
       "0  Ad Production                Digital Ad Production        701295   \n",
       "1  Ad Production                  Other Ad Production        646688   \n",
       "2  Ad Production              TV Print Radio OOH Prod         59784   \n",
       "3    Agency Fees                 Creative Agency Fees        650208   \n",
       "4    Agency Fees  In Store and POS Design/Development        517579   \n",
       "\n",
       "   Pep Budget  Bottler Budget  \n",
       "0      368135          333160  \n",
       "1      338608          308080  \n",
       "2       28407           31377  \n",
       "3      335069          315139  \n",
       "4      259249          258330  "
      ]
     },
     "execution_count": 8,
     "metadata": {},
     "output_type": "execute_result"
    }
   ],
   "source": [
    "df_budget.head()"
   ]
  },
  {
   "cell_type": "code",
   "execution_count": 9,
   "id": "b6f041bc",
   "metadata": {},
   "outputs": [],
   "source": [
    "multi_agent_obj = MultiAgentSystem(\n",
    "    model_name='gpt-4o',\n",
    "    api_key=llm_keys['open_ai'],\n",
    "    expense_dataset=df_expenses,\n",
    "    budget_dataset=df_budget,\n",
    "    plot_path='jupyter_plots',\n",
    ")"
   ]
  },
  {
   "cell_type": "code",
   "execution_count": 10,
   "id": "7db0a848",
   "metadata": {},
   "outputs": [],
   "source": [
    "# Category must also be included"
   ]
  },
  {
   "cell_type": "code",
   "execution_count": 11,
   "id": "46953a35",
   "metadata": {},
   "outputs": [],
   "source": [
    "# Expense\n",
    "# question = 'What are the Tier 1 expenses in 2024 for Brazil?'\n",
    "# question = \"How are the Tier 1 expenses in CY varying for Mexico & Brazil for Pepsi brand?\""
   ]
  },
  {
   "cell_type": "code",
   "execution_count": 12,
   "id": "484a13c1",
   "metadata": {},
   "outputs": [],
   "source": [
    "# Budget\n",
    "# question = 'What is the total budget allocated for Mexico in 2025?'\n",
    "question = \"Can you give me split of Tier 1 items for each Brazil & Mexico for 2025?\""
   ]
  },
  {
   "cell_type": "code",
   "execution_count": 26,
   "id": "8588c531",
   "metadata": {},
   "outputs": [],
   "source": [
    "question = \"What is the total marketing budget allocated for Pepsi Brand in Mexico for 2025?\"\n",
    "question = \"How much of this budget has been spent till July?\"\n",
    "question = \"Split that spend by tier 1 level and provide insight which tier is overspending vs plan.\""
   ]
  },
  {
   "cell_type": "code",
   "execution_count": 47,
   "id": "efca042e",
   "metadata": {},
   "outputs": [],
   "source": [
    "question = \"How many expenses are still pending approval for Brazil in Q2 2025?\"\n",
    "question = \"Who are these expenses pending at?\"\n",
    "question = \"For the approved Expenses during this period, how much amount for reimbursement is Bottler eligible for?\""
   ]
  },
  {
   "cell_type": "code",
   "execution_count": 63,
   "id": "a74b84d3",
   "metadata": {},
   "outputs": [],
   "source": [
    "question = \"How many expenses were selected for audit in 2025 till now in GUATEMALA? In terms of numbers and amount\"\n",
    "question = \"How many of these failed audit checks?\"\n",
    "question = \"What are the top reasons for audit fails?\""
   ]
  },
  {
   "cell_type": "code",
   "execution_count": 64,
   "id": "839ebfb3",
   "metadata": {},
   "outputs": [
    {
     "data": {
      "text/plain": [
       "'What are the top reasons for audit fails?'"
      ]
     },
     "execution_count": 64,
     "metadata": {},
     "output_type": "execute_result"
    }
   ],
   "source": [
    "question"
   ]
  },
  {
   "cell_type": "code",
   "execution_count": 65,
   "id": "2c9ca966",
   "metadata": {},
   "outputs": [
    {
     "name": "stdout",
     "output_type": "stream",
     "text": [
      "Tier mapping response:\n",
      "{'mapping_needed': False, 'results': []}\n",
      "--------------------------------------------------------------------------------------------------------------\n"
     ]
    }
   ],
   "source": [
    "result = multi_agent_obj.graph.nodes['supervisor'].invoke(\n",
    "    {\n",
    "        'question': question\n",
    "    }\n",
    ")"
   ]
  },
  {
   "cell_type": "code",
   "execution_count": 66,
   "id": "121f2069",
   "metadata": {},
   "outputs": [
    {
     "data": {
      "text/plain": [
       "{'result': {'thought_process': 'The user is asking for an analysis of the top reasons for audit failures, which requires accessing and analyzing audit data to identify common failure reasons. This task is best suited for the Insight Agent.',\n",
       "  'next': 'Insight Agent',\n",
       "  'enriched_question': 'What are the top reasons for audit failures in Guatemala for 2025?'},\n",
       " 'messages': [AIMessage(content='The user is asking for an analysis of the top reasons for audit failures, which requires accessing and analyzing audit data to identify common failure reasons. This task is best suited for the Insight Agent.', additional_kwargs={}, response_metadata={}, name='supervisor')],\n",
       " 'next': 'Insight Agent',\n",
       " 'type': 'agent'}"
      ]
     },
     "execution_count": 66,
     "metadata": {},
     "output_type": "execute_result"
    }
   ],
   "source": [
    "result"
   ]
  },
  {
   "cell_type": "code",
   "execution_count": 67,
   "id": "e762ddee",
   "metadata": {
    "scrolled": true
   },
   "outputs": [
    {
     "name": "stdout",
     "output_type": "stream",
     "text": [
      "\n",
      "\n",
      "\u001b[1m> Entering new AgentExecutor chain...\u001b[0m\n",
      "\u001b[32;1m\u001b[1;3m\n",
      "Invoking: `analyze_expense_data` with `Identify the top reasons for audit failures in Guatemala for the year 2025.`\n",
      "\n",
      "\n",
      "\u001b[0mResponse Text:\n",
      "<approach>\n",
      "To identify the top reasons for audit failures in Guatemala for the year 2025, I will need to:\n",
      "1. Filter the dataset for entries where the \"Country\" is Guatemala and the \"Year\" is 2025.\n",
      "2. Further filter these entries to include only those where the \"Audit Status\" is \"Audit Failed\".\n",
      "3. Group the filtered data by \"Audit Comments\" to identify the reasons for audit failures.\n",
      "4. Count the occurrences of each reason to determine the top reasons for audit failures.\n",
      "5. Sort the reasons by their count in descending order to identify the most common reasons.\n",
      "</approach>\n",
      "\n",
      "<code>\n",
      "import pandas as pd\n",
      "\n",
      "# Filter the dataset for Guatemala in 2025 with Audit Failed status\n",
      "filtered_df = df[\n",
      "    (df['Country'].str.strip().str.upper() == 'GUATEMALA') &\n",
      "    (df['Year'] == 2025) &\n",
      "    (df['Audit Status'].str.strip().str.upper() == 'AUDIT FAILED')\n",
      "]\n",
      "\n",
      "# Group by Audit Comments and count occurrences\n",
      "audit_failure_reasons = filtered_df['Audit Comments'].value_counts().reset_index()\n",
      "audit_failure_reasons.columns = ['Audit Comments', 'Count']\n",
      "\n",
      "# Sort by count in descending order\n",
      "audit_failure_reasons = audit_failure_reasons.sort_values(by='Count', ascending=False)\n",
      "\n",
      "answer_dict = {\"output_df\": audit_failure_reasons}\n",
      "</code>\n",
      "\n",
      "<chart>\n",
      "import plotly.express as px\n",
      "\n",
      "fig = px.bar(\n",
      "    audit_failure_reasons,\n",
      "    x='Audit Comments',\n",
      "    y='Count',\n",
      "    text='Count',\n",
      "    title='Top Reasons for Audit Failures in Guatemala for 2025',\n",
      "    labels={'Audit Comments': 'Audit Comments', 'Count': 'Number of Failures'}\n",
      ")\n",
      "\n",
      "fig.update_traces(textposition='auto')\n",
      "fig.update_layout(\n",
      "    template='plotly_white',\n",
      "    xaxis_title='Audit Comments',\n",
      "    yaxis_title='Number of Failures',\n",
      "    yaxis_tickformat=',.0s'\n",
      ")\n",
      "</chart>\n",
      "\n",
      "<answer>\n",
      "The top reasons for audit failures in Guatemala for the year 2025 are detailed in the following breakdown: {answer_dict[\"output_df\"]}. The chart visualizes the most common reasons for these audit failures.\n",
      "</answer>\n",
      "--------------------------------------------------------------------------------------------------------------\n",
      "Segments:\n",
      "{'approach': 'To identify the top reasons for audit failures in Guatemala for the year 2025, I will need to:\\n1. Filter the dataset for entries where the \"Country\" is Guatemala and the \"Year\" is 2025.\\n2. Further filter these entries to include only those where the \"Audit Status\" is \"Audit Failed\".\\n3. Group the filtered data by \"Audit Comments\" to identify the reasons for audit failures.\\n4. Count the occurrences of each reason to determine the top reasons for audit failures.\\n5. Sort the reasons by their count in descending order to identify the most common reasons.', 'code': 'import pandas as pd\\n\\n# Filter the dataset for Guatemala in 2025 with Audit Failed status\\nfiltered_df = df[\\n    (df[\\'Country\\'].str.strip().str.upper() == \\'GUATEMALA\\') &\\n    (df[\\'Year\\'] == 2025) &\\n    (df[\\'Audit Status\\'].str.strip().str.upper() == \\'AUDIT FAILED\\')\\n]\\n\\n# Group by Audit Comments and count occurrences\\naudit_failure_reasons = filtered_df[\\'Audit Comments\\'].value_counts().reset_index()\\naudit_failure_reasons.columns = [\\'Audit Comments\\', \\'Count\\']\\n\\n# Sort by count in descending order\\naudit_failure_reasons = audit_failure_reasons.sort_values(by=\\'Count\\', ascending=False)\\n\\nanswer_dict = {\"output_df\": audit_failure_reasons}', 'chart': \"import plotly.express as px\\n\\nfig = px.bar(\\n    audit_failure_reasons,\\n    x='Audit Comments',\\n    y='Count',\\n    text='Count',\\n    title='Top Reasons for Audit Failures in Guatemala for 2025',\\n    labels={'Audit Comments': 'Audit Comments', 'Count': 'Number of Failures'}\\n)\\n\\nfig.update_traces(textposition='auto')\\nfig.update_layout(\\n    template='plotly_white',\\n    xaxis_title='Audit Comments',\\n    yaxis_title='Number of Failures',\\n    yaxis_tickformat=',.0s'\\n)\", 'answer': 'The top reasons for audit failures in Guatemala for the year 2025 are detailed in the following breakdown: {answer_dict[\"output_df\"]}. The chart visualizes the most common reasons for these audit failures.'}\n",
      "--------------------------------------------------------------------------------------------------------------\n",
      "\u001b[36;1m\u001b[1;3m{'approach': 'To identify the top reasons for audit failures in Guatemala for the year 2025, I will need to:\\n1. Filter the dataset for entries where the \"Country\" is Guatemala and the \"Year\" is 2025.\\n2. Further filter these entries to include only those where the \"Audit Status\" is \"Audit Failed\".\\n3. Group the filtered data by \"Audit Comments\" to identify the reasons for audit failures.\\n4. Count the occurrences of each reason to determine the top reasons for audit failures.\\n5. Sort the reasons by their count in descending order to identify the most common reasons.', 'answer': 'The top reasons for audit failures in Guatemala for the year 2025 are detailed in the following breakdown:                                       Audit Comments  Count\\n0                   Missing supporting documentation     10\\n1                      Invoice missing / unavailable     10\\n2                            Invoice Amount mismatch     10\\n3  Expense and Invoice Dates mismatch - presented...      9\\n4                           Incorrect invoice number      9. The chart visualizes the most common reasons for these audit failures.', 'figure': 'jupyter_plots/plot_808383e4200f4797a5dfceef012c2101.json', 'code': 'import pandas as pd\\n\\n# Filter the dataset for Guatemala in 2025 with Audit Failed status\\nfiltered_df = df[\\n    (df[\\'Country\\'].str.strip().str.upper() == \\'GUATEMALA\\') &\\n    (df[\\'Year\\'] == 2025) &\\n    (df[\\'Audit Status\\'].str.strip().str.upper() == \\'AUDIT FAILED\\')\\n]\\n\\n# Group by Audit Comments and count occurrences\\naudit_failure_reasons = filtered_df[\\'Audit Comments\\'].value_counts().reset_index()\\naudit_failure_reasons.columns = [\\'Audit Comments\\', \\'Count\\']\\n\\n# Sort by count in descending order\\naudit_failure_reasons = audit_failure_reasons.sort_values(by=\\'Count\\', ascending=False)\\n\\nanswer_dict = {\"output_df\": audit_failure_reasons}', 'chart_code': \"import plotly.express as px\\n\\nfig = px.bar(\\n    audit_failure_reasons,\\n    x='Audit Comments',\\n    y='Count',\\n    text='Count',\\n    title='Top Reasons for Audit Failures in Guatemala for 2025',\\n    labels={'Audit Comments': 'Audit Comments', 'Count': 'Number of Failures'}\\n)\\n\\nfig.update_traces(textposition='auto')\\nfig.update_layout(\\n    template='plotly_white',\\n    xaxis_title='Audit Comments',\\n    yaxis_title='Number of Failures',\\n    yaxis_tickformat=',.0s'\\n)\"}\u001b[0m\u001b[32;1m\u001b[1;3m<answer>The top reasons for audit failures in Guatemala for the year 2025 are as follows:\n",
      "\n",
      "1. Missing supporting documentation: 10 instances\n",
      "2. Invoice missing/unavailable: 10 instances\n",
      "3. Invoice Amount mismatch: 10 instances\n",
      "4. Expense and Invoice Dates mismatch - presented: 9 instances\n",
      "5. Incorrect invoice number: 9 instances\n",
      "\n",
      "These reasons highlight the most common issues leading to audit failures.</answer><graph>jupyter_plots/plot_808383e4200f4797a5dfceef012c2101.json</graph>\u001b[0m\n",
      "\n",
      "\u001b[1m> Finished chain.\u001b[0m\n"
     ]
    }
   ],
   "source": [
    "result2 = multi_agent_obj.graph.nodes['Insight Agent'].invoke(\n",
    "    {\n",
    "        'enriched_question': result['result']['enriched_question']\n",
    "    }\n",
    ")"
   ]
  },
  {
   "cell_type": "code",
   "execution_count": 19,
   "id": "33be03fc",
   "metadata": {},
   "outputs": [
    {
     "data": {
      "text/plain": [
       "dict_keys(['input', 'history', 'output', 'intermediate_steps', 'recorder_steps', 'agent'])"
      ]
     },
     "execution_count": 19,
     "metadata": {},
     "output_type": "execute_result"
    }
   ],
   "source": [
    "result2.keys()"
   ]
  },
  {
   "cell_type": "code",
   "execution_count": 25,
   "id": "729721e6",
   "metadata": {},
   "outputs": [
    {
     "data": {
      "text/plain": [
       "'<answer>The total marketing budget allocated for the Pepsi Brand in Mexico for 2025 is $205,698,800, and the total amount spent until July 2025 is $3,283,126.</answer><graph>None</graph>'"
      ]
     },
     "execution_count": 25,
     "metadata": {},
     "output_type": "execute_result"
    }
   ],
   "source": [
    "result2['output']"
   ]
  },
  {
   "cell_type": "code",
   "execution_count": 18,
   "id": "54984635",
   "metadata": {},
   "outputs": [
    {
     "data": {
      "text/plain": [
       "3"
      ]
     },
     "execution_count": 18,
     "metadata": {},
     "output_type": "execute_result"
    }
   ],
   "source": [
    "len(result2['recorder_steps'])"
   ]
  },
  {
   "cell_type": "code",
   "execution_count": 19,
   "id": "e6d7d570",
   "metadata": {},
   "outputs": [
    {
     "data": {
      "text/plain": [
       "2"
      ]
     },
     "execution_count": 19,
     "metadata": {},
     "output_type": "execute_result"
    }
   ],
   "source": [
    "len(result2['recorder_steps'][-2:])"
   ]
  },
  {
   "cell_type": "code",
   "execution_count": 20,
   "id": "8431fcba",
   "metadata": {},
   "outputs": [
    {
     "data": {
      "text/plain": [
       "'Provide a split of Tier 1 items for Brazil and Mexico for the year 2025.'"
      ]
     },
     "execution_count": 20,
     "metadata": {},
     "output_type": "execute_result"
    }
   ],
   "source": [
    "result2['input']"
   ]
  },
  {
   "cell_type": "code",
   "execution_count": 21,
   "id": "86039367",
   "metadata": {},
   "outputs": [
    {
     "data": {
      "text/plain": [
       "'To answer this question, I will need to:\\n1. Filter the dataset for the year 2025 and for the countries Brazil and Mexico.\\n2. Group the filtered data by \"Country\" and \"Tier 1\" to get the sum of \"Total Expense\" for each \"Tier 1\" category.\\n3. Calculate the percentage share of each \"Tier 1\" category within each country.\\n4. Prepare the data for visualization to show the split of \"Tier 1\" items for Brazil and Mexico.'"
      ]
     },
     "execution_count": 21,
     "metadata": {},
     "output_type": "execute_result"
    }
   ],
   "source": [
    "result2['recorder_steps'][0]['observation']['approach']"
   ]
  },
  {
   "cell_type": "code",
   "execution_count": 22,
   "id": "e876ab7e",
   "metadata": {},
   "outputs": [],
   "source": [
    "result2['recorder_steps'][0]['observation']['answer']"
   ]
  },
  {
   "cell_type": "code",
   "execution_count": 26,
   "id": "c489d1cf",
   "metadata": {},
   "outputs": [
    {
     "data": {
      "text/plain": [
       "'To answer this question, I will need to:\\n1. Filter the dataset for the year 2025 and for the countries Brazil and Mexico.\\n2. Group the filtered data by \"Country\" and \"Tier 1\" to calculate the total \"Total Expense\" for each \"Tier 1\" category within each country.\\n3. Calculate the percentage share of each \"Tier 1\" category within each country by dividing the \"Total Expense\" of each \"Tier 1\" category by the total \"Total Expense\" for that country.\\n4. Prepare the result in a structured format to show the split of \"Tier 1\" items and their percentage share for Brazil and Mexico.'"
      ]
     },
     "execution_count": 26,
     "metadata": {},
     "output_type": "execute_result"
    }
   ],
   "source": [
    "result2['recorder_steps'][1]['observation']['approach']"
   ]
  },
  {
   "cell_type": "code",
   "execution_count": 27,
   "id": "f4bc022a",
   "metadata": {},
   "outputs": [
    {
     "data": {
      "text/plain": [
       "'The split of Tier 1 items for Brazil and Mexico for the year 2025, along with the percentage share of each Tier 1 category within each country, is available in   Country            Tier 1  Total Expense  Total Country Expense  \\\\\\n0  BRAZIL  Pull-Non-Working         417512                4810448   \\n1  BRAZIL      Pull-Working        1031633                4810448   \\n2  BRAZIL        STB - Push        3361303                4810448   \\n3  MEXICO  Pull-Non-Working          25410                8042554   \\n4  MEXICO      Pull-Working        4942230                8042554   \\n5  MEXICO        STB - Push        3074914                8042554   \\n\\n   Percentage Share  \\n0          8.679275  \\n1         21.445674  \\n2         69.875051  \\n3          0.315944  \\n4         61.451002  \\n5         38.233054  . The chart visualizes the percentage share of each Tier 1 category within Brazil and Mexico.'"
      ]
     },
     "execution_count": 27,
     "metadata": {},
     "output_type": "execute_result"
    }
   ],
   "source": [
    "result2['recorder_steps'][1]['observation']['answer']"
   ]
  },
  {
   "cell_type": "code",
   "execution_count": 28,
   "id": "86236206",
   "metadata": {
    "scrolled": true
   },
   "outputs": [
    {
     "data": {
      "text/plain": [
       "{'final_answer': '<answer>For the year 2025, the split of Tier 1 items for Brazil and Mexico is as follows:\\n\\n**Brazil:**\\n- Pull-Non-Working: $417,512 (8.68%)\\n- Pull-Working: $1,031,633 (21.45%)\\n- STB - Push: $3,361,303 (69.88%)\\n\\n**Mexico:**\\n- Pull-Non-Working: $25,410 (0.32%)\\n- Pull-Working: $4,942,230 (61.45%)\\n- STB - Push: $3,074,914 (38.23%)\\n\\nThe chart visualizes the percentage share of each Tier 1 category within Brazil and Mexico.</answer><graph>jupyter_plots/plot_b0bb31b03b41468093ff1651baada5f7.png</graph>'}"
      ]
     },
     "execution_count": 28,
     "metadata": {},
     "output_type": "execute_result"
    }
   ],
   "source": [
    "result2['recorder_steps'][2]"
   ]
  },
  {
   "cell_type": "code",
   "execution_count": 29,
   "id": "92a3ae0f",
   "metadata": {},
   "outputs": [
    {
     "data": {
      "text/plain": [
       "True"
      ]
     },
     "execution_count": 29,
     "metadata": {},
     "output_type": "execute_result"
    }
   ],
   "source": [
    "result2['output'] == result2['recorder_steps'][2]['final_answer']"
   ]
  },
  {
   "cell_type": "code",
   "execution_count": 30,
   "id": "3193cb2c",
   "metadata": {},
   "outputs": [
    {
     "data": {
      "text/plain": [
       "'Can you give me split of Tier 1 items for each Brazil & Mexico for 2025?'"
      ]
     },
     "execution_count": 30,
     "metadata": {},
     "output_type": "execute_result"
    }
   ],
   "source": [
    "question"
   ]
  },
  {
   "cell_type": "code",
   "execution_count": 31,
   "id": "c719f00f",
   "metadata": {
    "scrolled": true
   },
   "outputs": [
    {
     "name": "stdout",
     "output_type": "stream",
     "text": [
      "Tier mapping response:\n",
      "{'mapping_needed': True, 'results': [{'tier_1': 'Pull-Non-Working'}, {'tier_1': 'Pull-Working'}, {'tier_1': 'STB - Push'}]}\n",
      "--------------------------------------------------------------------------------------------------------------\n",
      "\n",
      "\n",
      "\u001b[1m> Entering new AgentExecutor chain...\u001b[0m\n",
      "\u001b[32;1m\u001b[1;3m\n",
      "Invoking: `analyze_expense_data` with `Provide a split of Tier 1 items for Brazil and Mexico for the year 2025.`\n",
      "\n",
      "\n",
      "\u001b[0mResponse Text:\n",
      "<approach>\n",
      "To answer this question, I will need to:\n",
      "1. Filter the dataset for the countries \"Brazil\" and \"Mexico\" and the year 2025.\n",
      "2. Group the filtered data by \"Tier 1\" and calculate the sum of \"Total Expense\" for each \"Tier 1\" category.\n",
      "3. Calculate the percentage share of each \"Tier 1\" category in the total expense for both Brazil and Mexico.\n",
      "4. Return the results in a structured format and visualize the split using a bar chart.\n",
      "</approach>\n",
      "\n",
      "<code>\n",
      "import pandas as pd\n",
      "\n",
      "# Filter the data for Brazil and Mexico for the year 2025\n",
      "filtered_df = df[(df['Year'] == 2025) & \n",
      "                 (df['Country'].str.strip().str.upper().isin(['BRAZIL', 'MEXICO']))]\n",
      "\n",
      "# Group by 'Country' and 'Tier 1' and calculate the sum of 'Total Expense'\n",
      "grouped_df = filtered_df.groupby(['Country', 'Tier 1'])['Total Expense'].sum().reset_index()\n",
      "\n",
      "# Calculate the percentage share of each 'Tier 1' category in the total expense for each country\n",
      "total_expense_by_country = grouped_df.groupby('Country')['Total Expense'].sum().reset_index()\n",
      "grouped_df = pd.merge(grouped_df, total_expense_by_country, on='Country', suffixes=('', '_Total'))\n",
      "grouped_df['Percentage Share'] = grouped_df['Total Expense'] / grouped_df['Total Expense_Total']\n",
      "\n",
      "# Prepare the answer dictionary\n",
      "answer_dict = {\n",
      "    \"output_df\": grouped_df\n",
      "}\n",
      "</code>\n",
      "\n",
      "<chart>\n",
      "import pandas as pd\n",
      "import matplotlib.pyplot as plt\n",
      "import seaborn as sns\n",
      "\n",
      "# Set figure size and style\n",
      "plt.figure(figsize=(10, 6))\n",
      "sns.set_theme(style=\"whitegrid\")\n",
      "sns.set_palette('pastel')\n",
      "\n",
      "# Plot the data\n",
      "sns.barplot(data=grouped_df, x='Country', y='Percentage Share', hue='Tier 1')\n",
      "\n",
      "# Add title and labels\n",
      "plt.title('Tier 1 Expense Split for Brazil and Mexico in 2025')\n",
      "plt.xlabel('Country')\n",
      "plt.ylabel('Percentage Share')\n",
      "plt.xticks(rotation=45, ha='right')\n",
      "plt.grid(True, alpha=0.3)\n",
      "plt.tight_layout()\n",
      "plt.show()\n",
      "</chart>\n",
      "\n",
      "<answer>\n",
      "The split of Tier 1 items for Brazil and Mexico for the year 2025 is available in {answer_dict[\"output_df\"]}. The bar chart visualizes the percentage share of each Tier 1 category in the total expense for both countries.\n",
      "</answer>\n",
      "--------------------------------------------------------------------------------------------------------------\n",
      "Segments:\n",
      "{'approach': 'To answer this question, I will need to:\\n1. Filter the dataset for the countries \"Brazil\" and \"Mexico\" and the year 2025.\\n2. Group the filtered data by \"Tier 1\" and calculate the sum of \"Total Expense\" for each \"Tier 1\" category.\\n3. Calculate the percentage share of each \"Tier 1\" category in the total expense for both Brazil and Mexico.\\n4. Return the results in a structured format and visualize the split using a bar chart.', 'code': 'import pandas as pd\\n\\n# Filter the data for Brazil and Mexico for the year 2025\\nfiltered_df = df[(df[\\'Year\\'] == 2025) & \\n                 (df[\\'Country\\'].str.strip().str.upper().isin([\\'BRAZIL\\', \\'MEXICO\\']))]\\n\\n# Group by \\'Country\\' and \\'Tier 1\\' and calculate the sum of \\'Total Expense\\'\\ngrouped_df = filtered_df.groupby([\\'Country\\', \\'Tier 1\\'])[\\'Total Expense\\'].sum().reset_index()\\n\\n# Calculate the percentage share of each \\'Tier 1\\' category in the total expense for each country\\ntotal_expense_by_country = grouped_df.groupby(\\'Country\\')[\\'Total Expense\\'].sum().reset_index()\\ngrouped_df = pd.merge(grouped_df, total_expense_by_country, on=\\'Country\\', suffixes=(\\'\\', \\'_Total\\'))\\ngrouped_df[\\'Percentage Share\\'] = grouped_df[\\'Total Expense\\'] / grouped_df[\\'Total Expense_Total\\']\\n\\n# Prepare the answer dictionary\\nanswer_dict = {\\n    \"output_df\": grouped_df\\n}', 'chart': 'import pandas as pd\\nimport matplotlib.pyplot as plt\\nimport seaborn as sns\\n\\n# Set figure size and style\\nplt.figure(figsize=(10, 6))\\nsns.set_theme(style=\"whitegrid\")\\nsns.set_palette(\\'pastel\\')\\n\\n# Plot the data\\nsns.barplot(data=grouped_df, x=\\'Country\\', y=\\'Percentage Share\\', hue=\\'Tier 1\\')\\n\\n# Add title and labels\\nplt.title(\\'Tier 1 Expense Split for Brazil and Mexico in 2025\\')\\nplt.xlabel(\\'Country\\')\\nplt.ylabel(\\'Percentage Share\\')\\nplt.xticks(rotation=45, ha=\\'right\\')\\nplt.grid(True, alpha=0.3)\\nplt.tight_layout()\\nplt.show()', 'answer': 'The split of Tier 1 items for Brazil and Mexico for the year 2025 is available in {answer_dict[\"output_df\"]}. The bar chart visualizes the percentage share of each Tier 1 category in the total expense for both countries.'}\n",
      "--------------------------------------------------------------------------------------------------------------\n",
      "\u001b[36;1m\u001b[1;3m{'approach': 'To answer this question, I will need to:\\n1. Filter the dataset for the countries \"Brazil\" and \"Mexico\" and the year 2025.\\n2. Group the filtered data by \"Tier 1\" and calculate the sum of \"Total Expense\" for each \"Tier 1\" category.\\n3. Calculate the percentage share of each \"Tier 1\" category in the total expense for both Brazil and Mexico.\\n4. Return the results in a structured format and visualize the split using a bar chart.', 'answer': 'The split of Tier 1 items for Brazil and Mexico for the year 2025 is available in   Country            Tier 1  Total Expense  Total Expense_Total  \\\\\\n0  BRAZIL  Pull-Non-Working         417512              4810448   \\n1  BRAZIL      Pull-Working        1031633              4810448   \\n2  BRAZIL        STB - Push        3361303              4810448   \\n3  MEXICO  Pull-Non-Working          25410              8042554   \\n4  MEXICO      Pull-Working        4942230              8042554   \\n5  MEXICO        STB - Push        3074914              8042554   \\n\\n   Percentage Share  \\n0          0.086793  \\n1          0.214457  \\n2          0.698751  \\n3          0.003159  \\n4          0.614510  \\n5          0.382331  . The bar chart visualizes the percentage share of each Tier 1 category in the total expense for both countries.', 'figure': 'jupyter_plots/plot_7486c2cc8a364679a768b1d4325a5c77.png', 'code': 'import pandas as pd\\n\\n# Filter the data for Brazil and Mexico for the year 2025\\nfiltered_df = df[(df[\\'Year\\'] == 2025) & \\n                 (df[\\'Country\\'].str.strip().str.upper().isin([\\'BRAZIL\\', \\'MEXICO\\']))]\\n\\n# Group by \\'Country\\' and \\'Tier 1\\' and calculate the sum of \\'Total Expense\\'\\ngrouped_df = filtered_df.groupby([\\'Country\\', \\'Tier 1\\'])[\\'Total Expense\\'].sum().reset_index()\\n\\n# Calculate the percentage share of each \\'Tier 1\\' category in the total expense for each country\\ntotal_expense_by_country = grouped_df.groupby(\\'Country\\')[\\'Total Expense\\'].sum().reset_index()\\ngrouped_df = pd.merge(grouped_df, total_expense_by_country, on=\\'Country\\', suffixes=(\\'\\', \\'_Total\\'))\\ngrouped_df[\\'Percentage Share\\'] = grouped_df[\\'Total Expense\\'] / grouped_df[\\'Total Expense_Total\\']\\n\\n# Prepare the answer dictionary\\nanswer_dict = {\\n    \"output_df\": grouped_df\\n}', 'chart_code': 'import pandas as pd\\nimport matplotlib.pyplot as plt\\nimport seaborn as sns\\n\\n# Set figure size and style\\nplt.figure(figsize=(10, 6))\\nsns.set_theme(style=\"whitegrid\")\\nsns.set_palette(\\'pastel\\')\\n\\n# Plot the data\\nsns.barplot(data=grouped_df, x=\\'Country\\', y=\\'Percentage Share\\', hue=\\'Tier 1\\')\\n\\n# Add title and labels\\nplt.title(\\'Tier 1 Expense Split for Brazil and Mexico in 2025\\')\\nplt.xlabel(\\'Country\\')\\nplt.ylabel(\\'Percentage Share\\')\\nplt.xticks(rotation=45, ha=\\'right\\')\\nplt.grid(True, alpha=0.3)\\nplt.tight_layout()\\nplt.show()'}\u001b[0m\u001b[32;1m\u001b[1;3m<answer>For the year 2025, the split of Tier 1 items for Brazil and Mexico is as follows:\n",
      "\n",
      "**Brazil:**\n",
      "- Pull-Non-Working: $417,512 (8.68%)\n",
      "- Pull-Working: $1,031,633 (21.45%)\n",
      "- STB - Push: $3,361,303 (69.88%)\n",
      "\n",
      "**Mexico:**\n",
      "- Pull-Non-Working: $25,410 (0.32%)\n",
      "- Pull-Working: $4,942,230 (61.45%)\n",
      "- STB - Push: $3,074,914 (38.23%)\n",
      "\n",
      "The chart visualizes the percentage share of each Tier 1 category within Brazil and Mexico.</answer><graph>jupyter_plots/plot_7486c2cc8a364679a768b1d4325a5c77.png</graph>\u001b[0m\n",
      "\n",
      "\u001b[1m> Finished chain.\u001b[0m\n"
     ]
    },
    {
     "name": "stdout",
     "output_type": "stream",
     "text": [
      "Tier mapping response:\n",
      "{'mapping_needed': True, 'results': [{'tier_1': 'Pull-Non-Working'}, {'tier_1': 'Pull-Working'}, {'tier_1': 'STB - Push'}]}\n",
      "--------------------------------------------------------------------------------------------------------------\n"
     ]
    },
    {
     "data": {
      "image/png": "[encoded data removed]",
      "text/plain": [
       "<Figure size 1000x600 with 1 Axes>"
      ]
     },
     "metadata": {},
     "output_type": "display_data"
    }
   ],
   "source": [
    "result3 = multi_agent_obj.graph.invoke(\n",
    "    {\n",
    "        'question': question\n",
    "    }\n",
    ")"
   ]
  },
  {
   "cell_type": "code",
   "execution_count": 32,
   "id": "d0bb77d8",
   "metadata": {},
   "outputs": [
    {
     "data": {
      "text/plain": [
       "{'result': {'thought_process': \"The Insight Agent has provided a detailed breakdown of Tier 1 items for Brazil and Mexico for the year 2025. The response includes both the monetary values and percentage shares for each category within the two countries. This comprehensive analysis fulfills the user's request.\",\n",
       "  'next': 'FINISH',\n",
       "  'direct_response': 'For the year 2025, the split of Tier 1 items for Brazil and Mexico is as follows:\\n\\n**Brazil:**\\n- Pull-Non-Working: $417,512 (8.68%)\\n- Pull-Working: $1,031,633 (21.45%)\\n- STB - Push: $3,361,303 (69.88%)\\n\\n**Mexico:**\\n- Pull-Non-Working: $25,410 (0.32%)\\n- Pull-Working: $4,942,230 (61.45%)\\n- STB - Push: $3,074,914 (38.23%)\\n\\nThe chart visualizes the percentage share of each Tier 1 category within Brazil and Mexico.',\n",
       "  'enriched_question': 'What is the split of Tier 1 items for Brazil and Mexico for the year 2025?'},\n",
       " 'messages': [AIMessage(content=\"The Insight Agent has provided a detailed breakdown of Tier 1 items for Brazil and Mexico for the year 2025. The response includes both the monetary values and percentage shares for each category within the two countries. This comprehensive analysis fulfills the user's request.\", additional_kwargs={}, response_metadata={}, name='supervisor')],\n",
       " 'next': 'FINISH',\n",
       " 'type': 'agent'}"
      ]
     },
     "execution_count": 32,
     "metadata": {},
     "output_type": "execute_result"
    }
   ],
   "source": [
    "result3"
   ]
  },
  {
   "cell_type": "code",
   "execution_count": null,
   "id": "e69b869f",
   "metadata": {},
   "outputs": [],
   "source": []
  }
 ],
 "metadata": {
  "hide_input": false,
  "kernelspec": {
   "display_name": "Python 3.12.11 (pepsico_gen_ai)",
   "language": "python",
   "name": "pepsico_gen_ai"
  },
  "language_info": {
   "codemirror_mode": {
    "name": "ipython",
    "version": 3
   },
   "file_extension": ".py",
   "mimetype": "text/x-python",
   "name": "python",
   "nbconvert_exporter": "python",
   "pygments_lexer": "ipython3",
   "version": "3.12.11"
  },
  "toc": {
   "base_numbering": 1,
   "nav_menu": {},
   "number_sections": false,
   "sideBar": true,
   "skip_h1_title": false,
   "title_cell": "Table of Contents",
   "title_sidebar": "Contents",
   "toc_cell": false,
   "toc_position": {},
   "toc_section_display": true,
   "toc_window_display": false
  }
 },
 "nbformat": 4,
 "nbformat_minor": 5
}
